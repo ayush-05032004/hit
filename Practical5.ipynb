{
 "cells": [
  {
   "cell_type": "code",
   "execution_count": 9,
   "id": "48e755aa-1ce5-4992-b14b-2bfbf0a38a0e",
   "metadata": {},
   "outputs": [
    {
     "ename": "IndentationError",
     "evalue": "expected an indented block after function definition on line 1 (1981696395.py, line 2)",
     "output_type": "error",
     "traceback": [
      "\u001b[1;36m  Cell \u001b[1;32mIn[9], line 2\u001b[1;36m\u001b[0m\n\u001b[1;33m    \"\"\"\u001b[0m\n\u001b[1;37m    ^\u001b[0m\n\u001b[1;31mIndentationError\u001b[0m\u001b[1;31m:\u001b[0m expected an indented block after function definition on line 1\n"
     ]
    }
   ],
   "source": [
    "def determine_grade(marks): \n",
    "\"\"\"\n",
    "Determine the grade based on the marks. \n",
    "\"\"\"\n",
    "if marks < 0 or marks > 100: \n",
    "return \"Invalid marks\"\n",
    "elif marks >= 75 and marks <= 100: \n",
    "return \"A\"\n",
    "elif marks >= 65 and marks < 75: \n",
    "return \"B\"\n",
    "elif marks >= 40 and marks < 65: \n",
    "return \"C\"\n",
    "else:\n",
    "return \"D\"\n",
    "# Test cases for boundary value analysis and grade determination \n",
    "test_cases = [\n",
    "-15, #invalid score\n",
    "74, # Just below the lower boundary of A grade \n",
    "85, # Upper boundary of A grade\n",
    "65, # Lower boundary of B grade \n",
    "99, # Within A grade\n",
    "64, # Just below the lower boundary of B grade\n",
    "50 # Well below the lower boundary of B grade\n",
    "]\n",
    "# Running test cases \n",
    "for test in test_cases:\n",
    "grade_result = determine_grade(test) \n",
    "print(f\"Marks: {test}, Is ? Grade: {grade_result}\")"
   ]
  },
  {
   "cell_type": "code",
   "execution_count": null,
   "id": "d2ee59ca-0b6d-451f-a268-e5a7b58a67e2",
   "metadata": {},
   "outputs": [],
   "source": []
  }
 ],
 "metadata": {
  "kernelspec": {
   "display_name": "Python 3 (ipykernel)",
   "language": "python",
   "name": "python3"
  },
  "language_info": {
   "codemirror_mode": {
    "name": "ipython",
    "version": 3
   },
   "file_extension": ".py",
   "mimetype": "text/x-python",
   "name": "python",
   "nbconvert_exporter": "python",
   "pygments_lexer": "ipython3",
   "version": "3.12.4"
  }
 },
 "nbformat": 4,
 "nbformat_minor": 5
}
