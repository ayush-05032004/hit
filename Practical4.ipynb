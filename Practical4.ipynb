{
 "cells": [
  {
   "cell_type": "code",
   "execution_count": 5,
   "id": "48e755aa-1ce5-4992-b14b-2bfbf0a38a0e",
   "metadata": {},
   "outputs": [
    {
     "ename": "SyntaxError",
     "evalue": "invalid syntax (3792605186.py, line 11)",
     "output_type": "error",
     "traceback": [
      "\u001b[1;36m  Cell \u001b[1;32mIn[5], line 11\u001b[1;36m\u001b[0m\n\u001b[1;33m    \"expected_result\": \"Approve loan\"},\u001b[0m\n\u001b[1;37m                     ^\u001b[0m\n\u001b[1;31mSyntaxError\u001b[0m\u001b[1;31m:\u001b[0m invalid syntax\n"
     ]
    }
   ],
   "source": [
    "decision_table = [\n",
    "{\"credit_score\": \"Good\", \"income_level\": \"High\", \"collateral\": \"Yes\", \n",
    "\"expected_result\": \"Approve loan\"},\n",
    "{\"credit_score\": \"Good\", \"income_level\": \"High\", \"collateral\": \"No\", \n",
    "\"expected_result\": \"Approve loan\"},\n",
    "{\"credit_score\": \"Good\", \"income_level\": \"Low\", \"collateral\": \"Yes\", \n",
    "\"expected_result\": \"Approve loan\"},\n",
    "{\"credit_score\": \"Good\", \"income_level\": \"Low\", \"collateral\": \"No\", \n",
    "\"expected_result\": \"Deny loan\"},\n",
    "{\"credit_score\": \"Bad\", \"income_level\":\n",
    "\"expected_result\": \"Approve loan\"},\n",
    "\"High\", \"collateral\": \"Yes\",\n",
    "{\"credit_score\": \"Bad\", \"income_level\":\n",
    "\"expected_result\": \"Deny loan\"},\n",
    "\"High\", \"collateral\": \"No\",\n",
    "{\"credit_score\": \"Bad\", \"income_level\": \n",
    "\"expected_result\": \"Deny loan\"},\n",
    "\"Low\", \"collateral\": \"Yes\",\n",
    "{\"credit_score\": \"Bad\", \"income_level\":\n",
    "\"expected_result\": \"Deny loan\"},\n",
    "\"Low\", \"collateral\": \"No\",\n",
    "]\n",
    "loan_approval_system(credit_score, income_level, collateral): if credit_score\n",
    "== \"Good\" and (income_level == \"High\" or collateral == \"Yes\"): return \n",
    "\"Approve loan\"\n",
    "elif credit_score == \"Bad\" and income_level == \"High\" and collateral == \n",
    "\"Yes\":\n",
    "return \"Approve loan\"\n",
    "else:\n",
    "return \"Deny loan\"\n",
    "# Step 3: Generate and execute test cases def \n",
    "run_test_cases(decision_table): for i, test_case in \n",
    "enumerate(decision_table): credit_score = \n",
    "test_case[\"credit_score\"] income_level = \n",
    "test_case[\"income_level\"] collateral = \n",
    "test_case[\"collateral\"] expected_result = \n",
    "test_case[\"expected_result\"]\n",
    "# Get the actual result from the loan approval system\n",
    "actual_result = loan_approval_system(credit_score, income_level, \n",
    "collateral)\n",
    "# Check if the actual result matches the expected result \n",
    "if actual_result == expected_result: print(f\"Test \n",
    "Case {i+1} PASSED\")\n",
    "else:\n",
    "print(f\"Test Case {i+1} FAILED: expected {expected_result} but got\n",
    "{actual_result}\")\n",
    "# Run the test cases run_test_cases(decision_table)"
   ]
  },
  {
   "cell_type": "code",
   "execution_count": null,
   "id": "d2ee59ca-0b6d-451f-a268-e5a7b58a67e2",
   "metadata": {},
   "outputs": [],
   "source": []
  }
 ],
 "metadata": {
  "kernelspec": {
   "display_name": "Python 3 (ipykernel)",
   "language": "python",
   "name": "python3"
  },
  "language_info": {
   "codemirror_mode": {
    "name": "ipython",
    "version": 3
   },
   "file_extension": ".py",
   "mimetype": "text/x-python",
   "name": "python",
   "nbconvert_exporter": "python",
   "pygments_lexer": "ipython3",
   "version": "3.12.4"
  }
 },
 "nbformat": 4,
 "nbformat_minor": 5
}
